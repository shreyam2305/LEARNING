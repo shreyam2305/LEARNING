{
  "nbformat": 4,
  "nbformat_minor": 0,
  "metadata": {
    "colab": {
      "provenance": []
    },
    "kernelspec": {
      "name": "python3",
      "display_name": "Python 3"
    },
    "language_info": {
      "name": "python"
    }
  },
  "cells": [
    {
      "cell_type": "markdown",
      "source": [
        "##1.\tWhat is Python, and why is it popular?\n",
        "Python is a high-level, interpreted programming language known for its simplicity and readability. It's popular due to its versatility (used in web development, data science, automation, AI, etc.), large supportive community, and extensive libraries and frameworks.\n",
        "\n",
        "##2.\tWhat is an interpreter in Python?\n",
        "\n",
        "An interpreter in Python is a program that reads and executes Python code line by line. It translates Python code into machine code, allowing the program to run directly without the need for compilation.\n",
        "\n",
        "##3.\tWhat are pre-defined keywords in Python?\n",
        "Pre-defined keywords in Python are reserved words that have special meanings and cannot be used as variable names. Examples include if, else, class, return, import, etc.\n",
        "\n",
        "##4.\tCan keywords be used as variable names?\n",
        "No, keywords cannot be used as variable names in Python, as they are reserved for specific syntactic purposes.\n",
        "\n",
        "##5.\tWhat is mutability in Python?\n",
        "Mutability refers to whether an object’s value can be changed after it is created. Mutable objects (e.g., lists) can have their content modified, while immutable objects (e.g., tuples) cannot.\n",
        "\n",
        "##6.\tWhy are lists mutable, but tuples are immutable?\n",
        "Lists are mutable because they are designed to allow changes like adding, removing, or altering elements. Tuples, on the other hand, are immutable to provide faster performance and ensure that the data they contain remains constant.\n",
        "\n",
        "##7.\tWhat is the difference between “==” and “is” operators in Python?\n",
        "- == checks if the values of two objects are equal.\n",
        "-\tis checks if two references point to the same object in memory.\n",
        "\n",
        "##8.\tWhat are logical operators in Python?\n",
        "Logical operators in Python are and, or, and not. They are used to combine conditional statements:\n",
        "a.\tand: returns True if both conditions are true.\n",
        "b.\tor: returns True if at least one condition is true.\n",
        "c.\tnot: returns True if the condition is false.\n",
        "\n",
        "##9.\tWhat is type casting in Python?\n",
        "Type casting in Python refers to converting a variable from one type to another, such as from an integer to a string or vice versa.\n",
        "\n",
        "##10.\tWhat is the difference between implicit and explicit type casting?\n",
        "•\tImplicit casting is automatically done by Python when it converts one data type to another (e.g., from int to float).\n",
        "•\tExplicit casting is done manually using functions like int(), str(), float(), etc.\n",
        "\n",
        "##11.\tWhat is the purpose of conditional statements in Python?\n",
        "Conditional statements allow the program to execute certain blocks of code based on whether a condition is true or false (e.g., if, elif, else).\n",
        "\n",
        "##12.\tHow does the elif statement work?\n",
        "The elif (else if) statement is used in conditional structures to check multiple conditions. It follows an if statement and allows additional conditions to be checked if the previous conditions are false.\n",
        "\n",
        "##13.\tWhat is the difference between for and while loops?\n",
        "A for loop iterates over a sequence (like a list or range).\n",
        "A while loop runs as long as a specified condition remains true.\n",
        "\n",
        "##14.\tDescribe a scenario where a while loop is more suitable than a for loop?\n",
        "A while loop is more suitable when you don't know the number of iterations in advance, such as waiting for user input or monitoring a sensor until a condition is met.\n"
      ],
      "metadata": {
        "id": "ObCMUGqmEVOs"
      }
    },
    {
      "cell_type": "code",
      "source": [
        "#1.\tWrite a python program to print Hello, World!\n",
        "print(\"Hello, World!\")"
      ],
      "metadata": {
        "colab": {
          "base_uri": "https://localhost:8080/"
        },
        "id": "44VCiBujG3TR",
        "outputId": "d70fc2a7-0d66-4eda-ab75-f084293ae2fa"
      },
      "execution_count": 2,
      "outputs": [
        {
          "output_type": "stream",
          "name": "stdout",
          "text": [
            "Hello, World!\n"
          ]
        }
      ]
    },
    {
      "cell_type": "markdown",
      "source": [],
      "metadata": {
        "id": "luwXEmGEFZVf"
      }
    },
    {
      "cell_type": "code",
      "source": [
        "#2.\tWrite a python program that displays your name and age.\n",
        "name = \"Shreya\"\n",
        "age = 21\n",
        "# Display name and age in one sentence\n",
        "print(f\"My name is {name} and I am {age} years old.\")"
      ],
      "metadata": {
        "colab": {
          "base_uri": "https://localhost:8080/"
        },
        "id": "POelH5_4FREu",
        "outputId": "860b66a7-2dba-4b87-f131-a8ef0117f4fc"
      },
      "execution_count": 3,
      "outputs": [
        {
          "output_type": "stream",
          "name": "stdout",
          "text": [
            "My name is Shreya and I am 21 years old.\n"
          ]
        }
      ]
    },
    {
      "cell_type": "code",
      "source": [
        "#3.Write code to print all the pre-defined keywords in python using the keyword library.\n",
        "help(“keywords”)"
      ],
      "metadata": {
        "id": "aB8PZDDoH_er"
      },
      "execution_count": null,
      "outputs": []
    },
    {
      "cell_type": "code",
      "source": [
        "#4.Write a program that checks if a given word is a python keyword.\n",
        "import keyword\n",
        "\n",
        "# Input word\n",
        "word = input(\"Enter a word to check if it's a Python keyword: \")\n",
        "\n",
        "# Check if the word is a keyword\n",
        "if keyword.iskeyword(word):\n",
        "    print(f\"{word} is a Python keyword.\")\n",
        "else:\n",
        "    print(f\"{word} is not a Python keyword.\")"
      ],
      "metadata": {
        "colab": {
          "base_uri": "https://localhost:8080/"
        },
        "id": "tNrjPmZoH_hI",
        "outputId": "9238d614-bdb9-43e5-b142-1a2f98df5177"
      },
      "execution_count": 5,
      "outputs": [
        {
          "output_type": "stream",
          "name": "stdout",
          "text": [
            "Enter a word to check if it's a Python keyword: True\n",
            "True is a Python keyword.\n"
          ]
        }
      ]
    },
    {
      "cell_type": "code",
      "source": [
        "#5. Create a list and tuple in Python, and demonstrate how attempting to change an element works differently for each.\n",
        "# List (mutable)\n",
        "my_list = [1, 2, 3, 4]\n",
        "print(\"Original list:\", my_list)\n",
        "\n",
        "# Changing an element in a list\n",
        "my_list[2] = 10\n",
        "print(\"New_list:\", my_list)\n",
        "\n",
        "# Tuple (immutable)\n",
        "my_tuple = (1, 2, 3, 4)\n",
        "print(\"Original tuple:\", my_tuple)\n",
        "\n",
        "# Trying to change an element in a tuple (will raise an error)\n",
        "try:\n",
        "    my_tuple[2] = 10\n",
        "except TypeError as e:\n",
        "    print(\"Error:\", e)\n"
      ],
      "metadata": {
        "id": "lh7Rlxf6H_j_"
      },
      "execution_count": null,
      "outputs": []
    },
    {
      "cell_type": "code",
      "source": [
        "#6&7\tWrite a function to demonstrate the behavior of mutable and immutable arguments\n",
        "def change_values(mutable, immutable):\n",
        "    mutable.append(100)  # Modify the mutable argument (list)\n",
        "    immutable += 10      # Attempt to modify the immutable argument (integer)\n",
        "    print(f\"Modified mutable: {mutable}\")\n",
        "    print(f\"Modified immutable: {immutable}\")\n",
        "\n",
        "# Test the function\n",
        "my_list = [1, 2, 3]\n",
        "my_number = 50\n",
        "change_values(my_list, my_number)\n",
        "\n",
        "# Check the values outside the function\n",
        "print(f\"List after function call: {my_list}\")\n",
        "print(f\"Number after function call: {my_number}\")\n"
      ],
      "metadata": {
        "colab": {
          "base_uri": "https://localhost:8080/"
        },
        "id": "ptqTWqorH_mx",
        "outputId": "7f89cd11-42af-4f29-fc6d-f3c486ae2ecc"
      },
      "execution_count": 6,
      "outputs": [
        {
          "output_type": "stream",
          "name": "stdout",
          "text": [
            "Modified mutable: [1, 2, 3, 100]\n",
            "Modified immutable: 60\n",
            "List after function call: [1, 2, 3, 100]\n",
            "Number after function call: 50\n"
          ]
        }
      ]
    },
    {
      "cell_type": "code",
      "source": [
        "#8. Write a program to demonstrate the use of logical operators\n",
        "a = True\n",
        "b = False\n",
        "\n",
        "# Logical AND\n",
        "print(f\"a and b: {a and b}\")\n",
        "\n",
        "# Logical OR\n",
        "print(f\"a or b: {a or b}\")\n",
        "\n",
        "# Logical NOT\n",
        "print(f\"not a: {not a}\")"
      ],
      "metadata": {
        "colab": {
          "base_uri": "https://localhost:8080/"
        },
        "id": "yxfP24NaH_pt",
        "outputId": "462e41a0-bfc8-481e-c24d-92d9c6c16ecb"
      },
      "execution_count": 7,
      "outputs": [
        {
          "output_type": "stream",
          "name": "stdout",
          "text": [
            "a and b: False\n",
            "a or b: True\n",
            "not a: False\n"
          ]
        }
      ]
    },
    {
      "cell_type": "code",
      "source": [
        "# 9.\tWrite a Python program to convert user input from string to integer, float, and boolean types\n",
        "# Input from user\n",
        "user_input = input(\"Enter a value: \")\n",
        "\n",
        "# Convert to integer, float, and boolean\n",
        "try:\n",
        "    int_value = int(user_input)\n",
        "    print(f\"Converted to integer: {int_value}\")\n",
        "except ValueError:\n",
        "    print(\"Cannot convert to integer.\")\n",
        "\n",
        "try:\n",
        "    float_value = float(user_input)\n",
        "    print(f\"Converted to float: {float_value}\")\n",
        "except ValueError:\n",
        "    print(\"Cannot convert to float.\")\n",
        "\n",
        "# Convert to boolean\n",
        "bool_value = bool(user_input)\n",
        "print(f\"Converted to boolean: {bool_value}\")"
      ],
      "metadata": {
        "colab": {
          "base_uri": "https://localhost:8080/"
        },
        "id": "qdcvHGIGH_tH",
        "outputId": "d8dbf7ad-0c25-4952-b399-8d173c22cbab"
      },
      "execution_count": 8,
      "outputs": [
        {
          "output_type": "stream",
          "name": "stdout",
          "text": [
            "Enter a value: 56.8\n",
            "Cannot convert to integer.\n",
            "Converted to float: 56.8\n",
            "Converted to boolean: True\n"
          ]
        }
      ]
    },
    {
      "cell_type": "code",
      "source": [
        "#10.\tWrite code to demonstrate type casting with list elements\n",
        "# List with different types of elements\n",
        "my_list = [1, \"2\", 3.5, True]\n",
        "\n",
        "# Cast elements to string\n",
        "string_list = [str(item) for item in my_list]\n",
        "print(\"List with string elements:\", string_list)\n",
        "\n",
        "# Cast elements to integer (where possible)\n",
        "int_list = []\n",
        "for item in my_list:\n",
        "    try:\n",
        "        int_list.append(int(item))\n",
        "    except ValueError:\n",
        "        int_list.append(None)\n",
        "print(\"List with integer elements:\", int_list)"
      ],
      "metadata": {
        "colab": {
          "base_uri": "https://localhost:8080/"
        },
        "id": "i9ExqxTKH_zq",
        "outputId": "7f41ce3a-3c7b-410b-c9e3-e18c2094a06b"
      },
      "execution_count": 9,
      "outputs": [
        {
          "output_type": "stream",
          "name": "stdout",
          "text": [
            "List with string elements: ['1', '2', '3.5', 'True']\n",
            "List with integer elements: [1, 2, 3, 1]\n"
          ]
        }
      ]
    },
    {
      "cell_type": "code",
      "source": [
        "#11.\tWrite a program that checks if a number is positive, negative, or zero\n",
        "# Input number\n",
        "num = float(input(\"Enter a number: \"))\n",
        "\n",
        "# Check if the number is positive, negative, or zero\n",
        "if num > 0:\n",
        "    print(\"The number is positive.\")\n",
        "elif num < 0:\n",
        "    print(\"The number is negative.\")\n",
        "else:\n",
        "    print(\"The number is zero.\")"
      ],
      "metadata": {
        "colab": {
          "base_uri": "https://localhost:8080/"
        },
        "id": "rF3zpjr1I7nn",
        "outputId": "8a72d185-0d1e-4e7e-83d9-ba9642bc471c"
      },
      "execution_count": 10,
      "outputs": [
        {
          "output_type": "stream",
          "name": "stdout",
          "text": [
            "Enter a number: 67\n",
            "The number is positive.\n"
          ]
        }
      ]
    },
    {
      "cell_type": "code",
      "source": [
        "#12.\tWrite a for loop to print numbers from 1 to 100\n",
        "for i in range(1, 101):\n",
        "    print(i)"
      ],
      "metadata": {
        "colab": {
          "base_uri": "https://localhost:8080/"
        },
        "id": "RWLCFzHiI7q9",
        "outputId": "989b6810-4615-4d4a-9221-e7ba4aa49ca4"
      },
      "execution_count": 11,
      "outputs": [
        {
          "output_type": "stream",
          "name": "stdout",
          "text": [
            "1\n",
            "2\n",
            "3\n",
            "4\n",
            "5\n",
            "6\n",
            "7\n",
            "8\n",
            "9\n",
            "10\n",
            "11\n",
            "12\n",
            "13\n",
            "14\n",
            "15\n",
            "16\n",
            "17\n",
            "18\n",
            "19\n",
            "20\n",
            "21\n",
            "22\n",
            "23\n",
            "24\n",
            "25\n",
            "26\n",
            "27\n",
            "28\n",
            "29\n",
            "30\n",
            "31\n",
            "32\n",
            "33\n",
            "34\n",
            "35\n",
            "36\n",
            "37\n",
            "38\n",
            "39\n",
            "40\n",
            "41\n",
            "42\n",
            "43\n",
            "44\n",
            "45\n",
            "46\n",
            "47\n",
            "48\n",
            "49\n",
            "50\n",
            "51\n",
            "52\n",
            "53\n",
            "54\n",
            "55\n",
            "56\n",
            "57\n",
            "58\n",
            "59\n",
            "60\n",
            "61\n",
            "62\n",
            "63\n",
            "64\n",
            "65\n",
            "66\n",
            "67\n",
            "68\n",
            "69\n",
            "70\n",
            "71\n",
            "72\n",
            "73\n",
            "74\n",
            "75\n",
            "76\n",
            "77\n",
            "78\n",
            "79\n",
            "80\n",
            "81\n",
            "82\n",
            "83\n",
            "84\n",
            "85\n",
            "86\n",
            "87\n",
            "88\n",
            "89\n",
            "90\n",
            "91\n",
            "92\n",
            "93\n",
            "94\n",
            "95\n",
            "96\n",
            "97\n",
            "98\n",
            "99\n",
            "100\n"
          ]
        }
      ]
    },
    {
      "cell_type": "code",
      "source": [
        "#13.\tWrite a Python program to find the sum of all even numbers between 1 and 500\n",
        "even_sum = 0\n",
        "for i in range(2, 501, 2):  # Starting from 2 and going in steps of 2 (even numbers)\n",
        "    even_sum += i\n",
        "\n",
        "print(f\"Sum of all even numbers between 1 and 500: {even_sum}\")"
      ],
      "metadata": {
        "colab": {
          "base_uri": "https://localhost:8080/"
        },
        "id": "rNnjlbO3I7x_",
        "outputId": "a5829734-cfab-406e-9de5-c66f9d98f8f7"
      },
      "execution_count": 12,
      "outputs": [
        {
          "output_type": "stream",
          "name": "stdout",
          "text": [
            "Sum of all even numbers between 1 and 500: 62750\n"
          ]
        }
      ]
    },
    {
      "cell_type": "code",
      "source": [
        "#14.\tWrite a program to reverse a string using a while loop\n",
        "# Input number\n",
        "a=input(\"Enter a string:\")\n",
        "a[::-1]"
      ],
      "metadata": {
        "colab": {
          "base_uri": "https://localhost:8080/",
          "height": 53
        },
        "id": "Me9Jjw3DJJet",
        "outputId": "b4b9a119-90f3-4e91-c724-e9c1e4a0eaf9"
      },
      "execution_count": 15,
      "outputs": [
        {
          "name": "stdout",
          "output_type": "stream",
          "text": [
            "Enter a string:shreya\n"
          ]
        },
        {
          "output_type": "execute_result",
          "data": {
            "text/plain": [
              "'ayerhs'"
            ],
            "application/vnd.google.colaboratory.intrinsic+json": {
              "type": "string"
            }
          },
          "metadata": {},
          "execution_count": 15
        }
      ]
    },
    {
      "cell_type": "code",
      "source": [
        "#15.\tWrite a Python program to calculate the factorial of a number provided by the user using a while loop.\n",
        "# Input number\n",
        "num = int(input(\"Enter a number to calculate its factorial: \"))\n",
        "\n",
        "# Calculate factorial using a while loop\n",
        "factorial = 1\n",
        "i = 1\n",
        "while i <= num:\n",
        "    factorial *= i\n",
        "    i += 1\n",
        "\n",
        "print(f\"Factorial of {num} is: {factorial}\")"
      ],
      "metadata": {
        "colab": {
          "base_uri": "https://localhost:8080/"
        },
        "id": "5gTfqWzGJQIU",
        "outputId": "03c2c650-ea30-4005-d0a0-fa0c20f31284"
      },
      "execution_count": 14,
      "outputs": [
        {
          "output_type": "stream",
          "name": "stdout",
          "text": [
            "Enter a number to calculate its factorial: 5\n",
            "Factorial of 5 is: 120\n"
          ]
        }
      ]
    },
    {
      "cell_type": "markdown",
      "source": [],
      "metadata": {
        "id": "pLmWKMVtJms0"
      }
    }
  ]
}